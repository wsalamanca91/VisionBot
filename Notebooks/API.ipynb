{
  "nbformat": 4,
  "nbformat_minor": 0,
  "metadata": {
    "colab": {
      "name": "API.ipynb",
      "provenance": [],
      "collapsed_sections": [],
      "toc_visible": true
    },
    "kernelspec": {
      "name": "python3",
      "display_name": "Python 3"
    },
    "accelerator": "GPU"
  },
  "cells": [
    {
      "cell_type": "markdown",
      "metadata": {
        "id": "vnGg4fa_G5LH",
        "colab_type": "text"
      },
      "source": [
        "Instalar Flask"
      ]
    },
    {
      "cell_type": "code",
      "metadata": {
        "id": "IjUt63P42LvG",
        "colab_type": "code",
        "colab": {
          "base_uri": "https://localhost:8080/",
          "height": 119
        },
        "outputId": "c6ae58b7-6032-4fce-ea72-9549a14b3e7d"
      },
      "source": [
        "!pip install flask"
      ],
      "execution_count": 1,
      "outputs": [
        {
          "output_type": "stream",
          "text": [
            "Requirement already satisfied: flask in /usr/local/lib/python3.6/dist-packages (1.1.2)\n",
            "Requirement already satisfied: itsdangerous>=0.24 in /usr/local/lib/python3.6/dist-packages (from flask) (1.1.0)\n",
            "Requirement already satisfied: Jinja2>=2.10.1 in /usr/local/lib/python3.6/dist-packages (from flask) (2.11.2)\n",
            "Requirement already satisfied: click>=5.1 in /usr/local/lib/python3.6/dist-packages (from flask) (7.1.2)\n",
            "Requirement already satisfied: Werkzeug>=0.15 in /usr/local/lib/python3.6/dist-packages (from flask) (1.0.1)\n",
            "Requirement already satisfied: MarkupSafe>=0.23 in /usr/local/lib/python3.6/dist-packages (from Jinja2>=2.10.1->flask) (1.1.1)\n"
          ],
          "name": "stdout"
        }
      ]
    },
    {
      "cell_type": "code",
      "metadata": {
        "id": "vqxW1IF52aPM",
        "colab_type": "code",
        "colab": {}
      },
      "source": [
        "import flask\n",
        "from IPython import get_ipython"
      ],
      "execution_count": 2,
      "outputs": []
    },
    {
      "cell_type": "code",
      "metadata": {
        "id": "I7I_g38x-KsO",
        "colab_type": "code",
        "colab": {
          "base_uri": "https://localhost:8080/",
          "height": 34
        },
        "outputId": "2b794444-79a9-43fe-b60e-943574fd01ec"
      },
      "source": [
        "%cd drive/My\\ Drive"
      ],
      "execution_count": 3,
      "outputs": [
        {
          "output_type": "stream",
          "text": [
            "/content/drive/My Drive\n"
          ],
          "name": "stdout"
        }
      ]
    },
    {
      "cell_type": "code",
      "metadata": {
        "id": "0isHzopN2xc2",
        "colab_type": "code",
        "colab": {
          "base_uri": "https://localhost:8080/",
          "height": 34
        },
        "outputId": "ffab84dd-cc87-4242-8fdb-2193a9add548"
      },
      "source": [
        "%cd TFM_TEST/testAPI/"
      ],
      "execution_count": 4,
      "outputs": [
        {
          "output_type": "stream",
          "text": [
            "/content/drive/My Drive/TFM_TEST/testAPI\n"
          ],
          "name": "stdout"
        }
      ]
    },
    {
      "cell_type": "markdown",
      "metadata": {
        "id": "qCDb8_nuHFPR",
        "colab_type": "text"
      },
      "source": [
        "Instalar ngrok"
      ]
    },
    {
      "cell_type": "code",
      "metadata": {
        "id": "3HeiXxUK2pm1",
        "colab_type": "code",
        "colab": {
          "base_uri": "https://localhost:8080/",
          "height": 238
        },
        "outputId": "bd378d82-f2a5-497c-b149-8da9db41728e"
      },
      "source": [
        "!wget https://bin.equinox.io/c/4VmDzA7iaHb/ngrok-stable-linux-amd64.zip\n",
        "!unzip -o ngrok-stable-linux-amd64.zip"
      ],
      "execution_count": 5,
      "outputs": [
        {
          "output_type": "stream",
          "text": [
            "--2020-09-15 10:51:48--  https://bin.equinox.io/c/4VmDzA7iaHb/ngrok-stable-linux-amd64.zip\n",
            "Resolving bin.equinox.io (bin.equinox.io)... 52.205.86.27, 34.196.154.11, 3.90.94.177, ...\n",
            "Connecting to bin.equinox.io (bin.equinox.io)|52.205.86.27|:443... connected.\n",
            "HTTP request sent, awaiting response... 200 OK\n",
            "Length: 13773305 (13M) [application/octet-stream]\n",
            "Saving to: ‘ngrok-stable-linux-amd64.zip.9’\n",
            "\n",
            "ngrok-stable-linux- 100%[===================>]  13.13M  5.86MB/s    in 2.2s    \n",
            "\n",
            "2020-09-15 10:51:51 (5.86 MB/s) - ‘ngrok-stable-linux-amd64.zip.9’ saved [13773305/13773305]\n",
            "\n",
            "Archive:  ngrok-stable-linux-amd64.zip\n",
            "  inflating: ngrok                   \n"
          ],
          "name": "stdout"
        }
      ]
    },
    {
      "cell_type": "code",
      "metadata": {
        "id": "l2SFRodyM7B2",
        "colab_type": "code",
        "colab": {
          "base_uri": "https://localhost:8080/",
          "height": 51
        },
        "outputId": "242084f7-f8ba-40f4-d3c9-0dbec590e78e"
      },
      "source": [
        "!pip install opencv-python"
      ],
      "execution_count": 7,
      "outputs": [
        {
          "output_type": "stream",
          "text": [
            "Requirement already satisfied: opencv-python in /usr/local/lib/python3.6/dist-packages (4.1.2.30)\n",
            "Requirement already satisfied: numpy>=1.11.3 in /usr/local/lib/python3.6/dist-packages (from opencv-python) (1.18.5)\n"
          ],
          "name": "stdout"
        }
      ]
    },
    {
      "cell_type": "markdown",
      "metadata": {
        "id": "FjofyOcyHJrv",
        "colab_type": "text"
      },
      "source": [
        "Iniciar servidor"
      ]
    },
    {
      "cell_type": "code",
      "metadata": {
        "id": "pnW6Ob_t3DF9",
        "colab_type": "code",
        "colab": {}
      },
      "source": [
        "get_ipython().system_raw('python app.py &')"
      ],
      "execution_count": 24,
      "outputs": []
    },
    {
      "cell_type": "code",
      "metadata": {
        "id": "Md-mCj_13IBH",
        "colab_type": "code",
        "colab": {}
      },
      "source": [
        "get_ipython().system_raw('./ngrok http 5000 &')"
      ],
      "execution_count": 25,
      "outputs": []
    },
    {
      "cell_type": "code",
      "metadata": {
        "id": "Nv1EIJvT3KHq",
        "colab_type": "code",
        "colab": {
          "base_uri": "https://localhost:8080/",
          "height": 34
        },
        "outputId": "bcfa4da3-33b2-4fba-d02e-ed1e2ea85816"
      },
      "source": [
        "! curl -s http://localhost:4040/api/tunnels | python3 -c \\\n",
        "    \"import sys, json; print(json.load(sys.stdin)['tunnels'][0]['public_url'])\""
      ],
      "execution_count": 26,
      "outputs": [
        {
          "output_type": "stream",
          "text": [
            "http://8e19e885ce00.ngrok.io\n"
          ],
          "name": "stdout"
        }
      ]
    },
    {
      "cell_type": "code",
      "metadata": {
        "id": "F4MTxpXc3Nw7",
        "colab_type": "code",
        "colab": {
          "base_uri": "https://localhost:8080/",
          "height": 1000
        },
        "outputId": "7b61bebf-13de-4c46-965f-b1530358a61d"
      },
      "source": [
        "from flask import Flask\n",
        "from PIL import Image\n",
        "from flask import request\n",
        "import numpy as np\n",
        "import sys\n",
        "import json\n",
        "import cv2\n",
        "import numpy as np\n",
        "app = Flask(__name__)\n",
        "\n",
        "@app.route('/predict/', methods=['POST'])\n",
        "def predict3():\n",
        "    nparr = np.fromstring(request.data, np.uint8)\n",
        "    img = cv2.imdecode(nparr, cv2.IMREAD_COLOR)\n",
        "    cv2.imwrite( \"TestImage.jpg\", img)\n",
        "    image = Image.open('TestImage.jpg')\n",
        "    im = np.array(image, dtype=np.uint8)\n",
        "    prediction = predict(im, model)\n",
        "    print(str(prediction))\n",
        "    response = app.response_class(\n",
        "        response=json.dumps(str(prediction)),\n",
        "        status=200,\n",
        "        mimetype='application/json')\n",
        "    return response\n",
        "\n",
        "if __name__ == '__main__':\n",
        "    app.run()"
      ],
      "execution_count": null,
      "outputs": [
        {
          "output_type": "stream",
          "text": [
            " * Serving Flask app \"__main__\" (lazy loading)\n",
            " * Environment: production\n",
            "\u001b[31m   WARNING: This is a development server. Do not use it in a production deployment.\u001b[0m\n",
            "\u001b[2m   Use a production WSGI server instead.\u001b[0m\n",
            " * Debug mode: off\n"
          ],
          "name": "stdout"
        },
        {
          "output_type": "stream",
          "text": [
            " * Running on http://127.0.0.1:5000/ (Press CTRL+C to quit)\n",
            "127.0.0.1 - - [15/Sep/2020 16:31:07] \"\u001b[32mPOST /predict HTTP/1.1\u001b[0m\" 308 -\n",
            "/usr/local/lib/python3.6/dist-packages/ipykernel_launcher.py:13: DeprecationWarning: The binary mode of fromstring is deprecated, as it behaves surprisingly on unicode inputs. Use frombuffer instead\n",
            "  del sys.path[0]\n",
            "127.0.0.1 - - [15/Sep/2020 16:31:08] \"\u001b[37mPOST /predict/ HTTP/1.1\u001b[0m\" 200 -\n"
          ],
          "name": "stderr"
        },
        {
          "output_type": "stream",
          "text": [
            "[[[69.64597, 76.75359, 376.4916, 299.625], 0]]\n"
          ],
          "name": "stdout"
        },
        {
          "output_type": "stream",
          "text": [
            "127.0.0.1 - - [15/Sep/2020 16:34:57] \"\u001b[32mPOST /predict HTTP/1.1\u001b[0m\" 308 -\n",
            "127.0.0.1 - - [15/Sep/2020 16:34:58] \"\u001b[37mPOST /predict/ HTTP/1.1\u001b[0m\" 200 -\n"
          ],
          "name": "stderr"
        },
        {
          "output_type": "stream",
          "text": [
            "[[[68.187416, 78.48578, 366.78946, 299.625], 0]]\n"
          ],
          "name": "stdout"
        },
        {
          "output_type": "stream",
          "text": [
            "127.0.0.1 - - [15/Sep/2020 16:37:34] \"\u001b[32mPOST /predict HTTP/1.1\u001b[0m\" 308 -\n",
            "127.0.0.1 - - [15/Sep/2020 16:37:35] \"\u001b[37mPOST /predict/ HTTP/1.1\u001b[0m\" 200 -\n"
          ],
          "name": "stderr"
        },
        {
          "output_type": "stream",
          "text": [
            "[[[62.50747, 71.55436, 359.31522, 299.625], 0]]\n"
          ],
          "name": "stdout"
        },
        {
          "output_type": "stream",
          "text": [
            "127.0.0.1 - - [15/Sep/2020 17:03:35] \"\u001b[32mPOST /predict HTTP/1.1\u001b[0m\" 308 -\n",
            "127.0.0.1 - - [15/Sep/2020 17:03:36] \"\u001b[37mPOST /predict/ HTTP/1.1\u001b[0m\" 200 -\n"
          ],
          "name": "stderr"
        },
        {
          "output_type": "stream",
          "text": [
            "[[[108.37532, 66.16105, 272.5482, 264.6829], 11]]\n"
          ],
          "name": "stdout"
        },
        {
          "output_type": "stream",
          "text": [
            "127.0.0.1 - - [15/Sep/2020 17:05:54] \"\u001b[32mPOST /predict HTTP/1.1\u001b[0m\" 308 -\n",
            "127.0.0.1 - - [15/Sep/2020 17:05:55] \"\u001b[37mPOST /predict/ HTTP/1.1\u001b[0m\" 200 -\n"
          ],
          "name": "stderr"
        },
        {
          "output_type": "stream",
          "text": [
            "[[[46.105686, 73.585625, 399.75, 299.625], 0]]\n"
          ],
          "name": "stdout"
        },
        {
          "output_type": "stream",
          "text": [
            "127.0.0.1 - - [15/Sep/2020 17:10:18] \"\u001b[32mPOST /predict HTTP/1.1\u001b[0m\" 308 -\n",
            "127.0.0.1 - - [15/Sep/2020 17:10:19] \"\u001b[37mPOST /predict/ HTTP/1.1\u001b[0m\" 200 -\n"
          ],
          "name": "stderr"
        },
        {
          "output_type": "stream",
          "text": [
            "[[[61.407818, 77.14282, 379.74756, 299.625], 0]]\n"
          ],
          "name": "stdout"
        },
        {
          "output_type": "stream",
          "text": [
            "127.0.0.1 - - [15/Sep/2020 17:19:35] \"\u001b[32mPOST /predict HTTP/1.1\u001b[0m\" 308 -\n",
            "127.0.0.1 - - [15/Sep/2020 17:19:36] \"\u001b[37mPOST /predict/ HTTP/1.1\u001b[0m\" 200 -\n"
          ],
          "name": "stderr"
        },
        {
          "output_type": "stream",
          "text": [
            "[[[0.0, 52.970123, 279.4739, 299.625], 0]]\n"
          ],
          "name": "stdout"
        },
        {
          "output_type": "stream",
          "text": [
            "127.0.0.1 - - [15/Sep/2020 17:35:38] \"\u001b[32mPOST /predict HTTP/1.1\u001b[0m\" 308 -\n",
            "127.0.0.1 - - [15/Sep/2020 17:35:39] \"\u001b[37mPOST /predict/ HTTP/1.1\u001b[0m\" 200 -\n"
          ],
          "name": "stderr"
        },
        {
          "output_type": "stream",
          "text": [
            "[[[176.26952, 77.05632, 377.65073, 299.625], 0]]\n"
          ],
          "name": "stdout"
        },
        {
          "output_type": "stream",
          "text": [
            "127.0.0.1 - - [15/Sep/2020 17:37:10] \"\u001b[32mPOST /predict HTTP/1.1\u001b[0m\" 308 -\n",
            "127.0.0.1 - - [15/Sep/2020 17:37:11] \"\u001b[37mPOST /predict/ HTTP/1.1\u001b[0m\" 200 -\n"
          ],
          "name": "stderr"
        },
        {
          "output_type": "stream",
          "text": [
            "[[[122.23707, 76.18126, 399.75, 299.625], 0]]\n"
          ],
          "name": "stdout"
        },
        {
          "output_type": "stream",
          "text": [
            "127.0.0.1 - - [15/Sep/2020 17:37:23] \"\u001b[32mPOST /predict HTTP/1.1\u001b[0m\" 308 -\n",
            "127.0.0.1 - - [15/Sep/2020 17:37:24] \"\u001b[37mPOST /predict/ HTTP/1.1\u001b[0m\" 200 -\n"
          ],
          "name": "stderr"
        },
        {
          "output_type": "stream",
          "text": [
            "[[[96.09199, 71.3477, 392.4597, 299.625], 0]]\n"
          ],
          "name": "stdout"
        },
        {
          "output_type": "stream",
          "text": [
            "127.0.0.1 - - [15/Sep/2020 17:37:39] \"\u001b[32mPOST /predict HTTP/1.1\u001b[0m\" 308 -\n",
            "127.0.0.1 - - [15/Sep/2020 17:37:40] \"\u001b[37mPOST /predict/ HTTP/1.1\u001b[0m\" 200 -\n"
          ],
          "name": "stderr"
        },
        {
          "output_type": "stream",
          "text": [
            "[[[82.3921, 76.537056, 383.95807, 299.625], 0]]\n"
          ],
          "name": "stdout"
        },
        {
          "output_type": "stream",
          "text": [
            "127.0.0.1 - - [15/Sep/2020 17:37:53] \"\u001b[32mPOST /predict HTTP/1.1\u001b[0m\" 308 -\n",
            "127.0.0.1 - - [15/Sep/2020 17:37:54] \"\u001b[37mPOST /predict/ HTTP/1.1\u001b[0m\" 200 -\n"
          ],
          "name": "stderr"
        },
        {
          "output_type": "stream",
          "text": [
            "[[[57.048298, 73.53179, 376.8987, 299.625], 0]]\n"
          ],
          "name": "stdout"
        },
        {
          "output_type": "stream",
          "text": [
            "127.0.0.1 - - [15/Sep/2020 17:38:07] \"\u001b[32mPOST /predict HTTP/1.1\u001b[0m\" 308 -\n",
            "127.0.0.1 - - [15/Sep/2020 17:38:08] \"\u001b[37mPOST /predict/ HTTP/1.1\u001b[0m\" 200 -\n"
          ],
          "name": "stderr"
        },
        {
          "output_type": "stream",
          "text": [
            "[[[45.11892, 72.94246, 381.42218, 299.625], 0]]\n"
          ],
          "name": "stdout"
        },
        {
          "output_type": "stream",
          "text": [
            "127.0.0.1 - - [15/Sep/2020 17:38:28] \"\u001b[32mPOST /predict HTTP/1.1\u001b[0m\" 308 -\n",
            "127.0.0.1 - - [15/Sep/2020 17:38:28] \"\u001b[37mPOST /predict/ HTTP/1.1\u001b[0m\" 200 -\n"
          ],
          "name": "stderr"
        },
        {
          "output_type": "stream",
          "text": [
            "[[[143.4812, 79.14689, 395.2654, 299.625], 0]]\n"
          ],
          "name": "stdout"
        },
        {
          "output_type": "stream",
          "text": [
            "127.0.0.1 - - [15/Sep/2020 17:39:21] \"\u001b[32mPOST /predict HTTP/1.1\u001b[0m\" 308 -\n",
            "127.0.0.1 - - [15/Sep/2020 17:39:22] \"\u001b[37mPOST /predict/ HTTP/1.1\u001b[0m\" 200 -\n"
          ],
          "name": "stderr"
        },
        {
          "output_type": "stream",
          "text": [
            "[[[74.90858, 71.29692, 377.12946, 299.625], 11]]\n"
          ],
          "name": "stdout"
        },
        {
          "output_type": "stream",
          "text": [
            "127.0.0.1 - - [15/Sep/2020 17:39:56] \"\u001b[32mPOST /predict HTTP/1.1\u001b[0m\" 308 -\n",
            "127.0.0.1 - - [15/Sep/2020 17:39:57] \"\u001b[37mPOST /predict/ HTTP/1.1\u001b[0m\" 200 -\n"
          ],
          "name": "stderr"
        },
        {
          "output_type": "stream",
          "text": [
            "[[[76.96152, 72.01436, 396.80515, 299.625], 0]]\n"
          ],
          "name": "stdout"
        },
        {
          "output_type": "stream",
          "text": [
            "127.0.0.1 - - [15/Sep/2020 17:44:39] \"\u001b[32mPOST /predict HTTP/1.1\u001b[0m\" 308 -\n",
            "127.0.0.1 - - [15/Sep/2020 17:44:40] \"\u001b[37mPOST /predict/ HTTP/1.1\u001b[0m\" 200 -\n"
          ],
          "name": "stderr"
        },
        {
          "output_type": "stream",
          "text": [
            "[[[60.50272, 80.180855, 283.94843, 299.625], 11]]\n"
          ],
          "name": "stdout"
        },
        {
          "output_type": "stream",
          "text": [
            "127.0.0.1 - - [15/Sep/2020 17:45:26] \"\u001b[32mPOST /predict HTTP/1.1\u001b[0m\" 308 -\n",
            "127.0.0.1 - - [15/Sep/2020 17:45:27] \"\u001b[37mPOST /predict/ HTTP/1.1\u001b[0m\" 200 -\n"
          ],
          "name": "stderr"
        },
        {
          "output_type": "stream",
          "text": [
            "[[[68.1481, 86.92577, 358.82025, 299.625], 0]]\n"
          ],
          "name": "stdout"
        },
        {
          "output_type": "stream",
          "text": [
            "127.0.0.1 - - [15/Sep/2020 17:46:10] \"\u001b[32mPOST /predict HTTP/1.1\u001b[0m\" 308 -\n",
            "127.0.0.1 - - [15/Sep/2020 17:46:11] \"\u001b[37mPOST /predict/ HTTP/1.1\u001b[0m\" 200 -\n"
          ],
          "name": "stderr"
        },
        {
          "output_type": "stream",
          "text": [
            "[[[44.239685, 74.139595, 399.75, 299.625], 0]]\n"
          ],
          "name": "stdout"
        },
        {
          "output_type": "stream",
          "text": [
            "127.0.0.1 - - [15/Sep/2020 17:47:46] \"\u001b[32mPOST /predict HTTP/1.1\u001b[0m\" 308 -\n",
            "127.0.0.1 - - [15/Sep/2020 17:47:46] \"\u001b[37mPOST /predict/ HTTP/1.1\u001b[0m\" 200 -\n"
          ],
          "name": "stderr"
        },
        {
          "output_type": "stream",
          "text": [
            "[[[49.68307, 59.324192, 365.91702, 299.625], 0]]\n"
          ],
          "name": "stdout"
        },
        {
          "output_type": "stream",
          "text": [
            "127.0.0.1 - - [15/Sep/2020 17:47:59] \"\u001b[32mPOST /predict HTTP/1.1\u001b[0m\" 308 -\n",
            "127.0.0.1 - - [15/Sep/2020 17:48:00] \"\u001b[37mPOST /predict/ HTTP/1.1\u001b[0m\" 200 -\n"
          ],
          "name": "stderr"
        },
        {
          "output_type": "stream",
          "text": [
            "[[[136.43407, 72.910706, 362.02277, 299.625], 0]]\n"
          ],
          "name": "stdout"
        },
        {
          "output_type": "stream",
          "text": [
            "127.0.0.1 - - [15/Sep/2020 17:49:59] \"\u001b[32mPOST /predict HTTP/1.1\u001b[0m\" 308 -\n",
            "127.0.0.1 - - [15/Sep/2020 17:50:00] \"\u001b[37mPOST /predict/ HTTP/1.1\u001b[0m\" 200 -\n"
          ],
          "name": "stderr"
        },
        {
          "output_type": "stream",
          "text": [
            "[[[21.127186, 73.44864, 399.75, 299.625], 0]]\n"
          ],
          "name": "stdout"
        },
        {
          "output_type": "stream",
          "text": [
            "127.0.0.1 - - [15/Sep/2020 17:50:25] \"\u001b[32mPOST /predict HTTP/1.1\u001b[0m\" 308 -\n",
            "127.0.0.1 - - [15/Sep/2020 17:50:26] \"\u001b[37mPOST /predict/ HTTP/1.1\u001b[0m\" 200 -\n"
          ],
          "name": "stderr"
        },
        {
          "output_type": "stream",
          "text": [
            "[[[142.02469, 85.99864, 399.75, 299.625], 0]]\n"
          ],
          "name": "stdout"
        },
        {
          "output_type": "stream",
          "text": [
            "127.0.0.1 - - [15/Sep/2020 17:51:51] \"\u001b[32mPOST /predict HTTP/1.1\u001b[0m\" 308 -\n",
            "127.0.0.1 - - [15/Sep/2020 17:51:52] \"\u001b[37mPOST /predict/ HTTP/1.1\u001b[0m\" 200 -\n"
          ],
          "name": "stderr"
        },
        {
          "output_type": "stream",
          "text": [
            "[[[24.265549, 78.82786, 391.22754, 299.625], 0]]\n"
          ],
          "name": "stdout"
        },
        {
          "output_type": "stream",
          "text": [
            "127.0.0.1 - - [15/Sep/2020 17:52:03] \"\u001b[32mPOST /predict HTTP/1.1\u001b[0m\" 308 -\n",
            "127.0.0.1 - - [15/Sep/2020 17:52:03] \"\u001b[37mPOST /predict/ HTTP/1.1\u001b[0m\" 200 -\n"
          ],
          "name": "stderr"
        },
        {
          "output_type": "stream",
          "text": [
            "[[[35.620163, 85.18733, 399.75, 299.625], 0]]\n"
          ],
          "name": "stdout"
        },
        {
          "output_type": "stream",
          "text": [
            "127.0.0.1 - - [15/Sep/2020 17:53:24] \"\u001b[32mPOST /predict HTTP/1.1\u001b[0m\" 308 -\n",
            "127.0.0.1 - - [15/Sep/2020 17:53:24] \"\u001b[37mPOST /predict/ HTTP/1.1\u001b[0m\" 200 -\n"
          ],
          "name": "stderr"
        },
        {
          "output_type": "stream",
          "text": [
            "[[[30.17712, 57.547085, 330.25122, 299.625], 0]]\n"
          ],
          "name": "stdout"
        },
        {
          "output_type": "stream",
          "text": [
            "127.0.0.1 - - [15/Sep/2020 17:53:30] \"\u001b[32mPOST /predict HTTP/1.1\u001b[0m\" 308 -\n",
            "127.0.0.1 - - [15/Sep/2020 17:53:31] \"\u001b[37mPOST /predict/ HTTP/1.1\u001b[0m\" 200 -\n"
          ],
          "name": "stderr"
        },
        {
          "output_type": "stream",
          "text": [
            "[[[19.424019, 58.563572, 330.3002, 299.625], 0]]\n"
          ],
          "name": "stdout"
        },
        {
          "output_type": "stream",
          "text": [
            "127.0.0.1 - - [15/Sep/2020 17:53:43] \"\u001b[32mPOST /predict HTTP/1.1\u001b[0m\" 308 -\n",
            "127.0.0.1 - - [15/Sep/2020 17:53:44] \"\u001b[37mPOST /predict/ HTTP/1.1\u001b[0m\" 200 -\n"
          ],
          "name": "stderr"
        },
        {
          "output_type": "stream",
          "text": [
            "[[[28.98816, 61.406925, 324.57623, 299.625], 0]]\n"
          ],
          "name": "stdout"
        },
        {
          "output_type": "stream",
          "text": [
            "127.0.0.1 - - [15/Sep/2020 17:54:04] \"\u001b[32mPOST /predict HTTP/1.1\u001b[0m\" 308 -\n",
            "127.0.0.1 - - [15/Sep/2020 17:54:05] \"\u001b[37mPOST /predict/ HTTP/1.1\u001b[0m\" 200 -\n"
          ],
          "name": "stderr"
        },
        {
          "output_type": "stream",
          "text": [
            "[[[60.007603, 76.880135, 366.48972, 299.625], 0]]\n"
          ],
          "name": "stdout"
        },
        {
          "output_type": "stream",
          "text": [
            "127.0.0.1 - - [15/Sep/2020 17:56:32] \"\u001b[32mPOST /predict HTTP/1.1\u001b[0m\" 308 -\n",
            "127.0.0.1 - - [15/Sep/2020 17:56:33] \"\u001b[37mPOST /predict/ HTTP/1.1\u001b[0m\" 200 -\n"
          ],
          "name": "stderr"
        },
        {
          "output_type": "stream",
          "text": [
            "[[[77.46026, 78.46582, 396.02667, 299.625], 0]]\n"
          ],
          "name": "stdout"
        },
        {
          "output_type": "stream",
          "text": [
            "127.0.0.1 - - [15/Sep/2020 17:56:38] \"\u001b[32mPOST /predict HTTP/1.1\u001b[0m\" 308 -\n",
            "127.0.0.1 - - [15/Sep/2020 17:56:39] \"\u001b[37mPOST /predict/ HTTP/1.1\u001b[0m\" 200 -\n"
          ],
          "name": "stderr"
        },
        {
          "output_type": "stream",
          "text": [
            "[[[78.156044, 78.508575, 399.75, 299.625], 0]]\n"
          ],
          "name": "stdout"
        },
        {
          "output_type": "stream",
          "text": [
            "127.0.0.1 - - [15/Sep/2020 17:57:57] \"\u001b[32mPOST /predict HTTP/1.1\u001b[0m\" 308 -\n",
            "127.0.0.1 - - [15/Sep/2020 17:57:58] \"\u001b[37mPOST /predict/ HTTP/1.1\u001b[0m\" 200 -\n"
          ],
          "name": "stderr"
        },
        {
          "output_type": "stream",
          "text": [
            "[[[44.96732, 60.304783, 399.75, 299.625], 0]]\n"
          ],
          "name": "stdout"
        },
        {
          "output_type": "stream",
          "text": [
            "127.0.0.1 - - [15/Sep/2020 17:58:09] \"\u001b[32mPOST /predict HTTP/1.1\u001b[0m\" 308 -\n",
            "127.0.0.1 - - [15/Sep/2020 17:58:10] \"\u001b[37mPOST /predict/ HTTP/1.1\u001b[0m\" 200 -\n"
          ],
          "name": "stderr"
        },
        {
          "output_type": "stream",
          "text": [
            "[[[63.65023, 59.655624, 399.75, 299.625], 0]]\n"
          ],
          "name": "stdout"
        },
        {
          "output_type": "stream",
          "text": [
            "127.0.0.1 - - [15/Sep/2020 17:58:23] \"\u001b[32mPOST /predict HTTP/1.1\u001b[0m\" 308 -\n",
            "127.0.0.1 - - [15/Sep/2020 17:58:24] \"\u001b[37mPOST /predict/ HTTP/1.1\u001b[0m\" 200 -\n"
          ],
          "name": "stderr"
        },
        {
          "output_type": "stream",
          "text": [
            "[[[40.995483, 65.03986, 399.75, 299.625], 0]]\n"
          ],
          "name": "stdout"
        },
        {
          "output_type": "stream",
          "text": [
            "127.0.0.1 - - [15/Sep/2020 17:58:44] \"\u001b[32mPOST /predict HTTP/1.1\u001b[0m\" 308 -\n",
            "127.0.0.1 - - [15/Sep/2020 17:58:44] \"\u001b[37mPOST /predict/ HTTP/1.1\u001b[0m\" 200 -\n"
          ],
          "name": "stderr"
        },
        {
          "output_type": "stream",
          "text": [
            "[[[73.19789, 82.4524, 399.75, 299.625], 0]]\n"
          ],
          "name": "stdout"
        },
        {
          "output_type": "stream",
          "text": [
            "127.0.0.1 - - [15/Sep/2020 17:59:21] \"\u001b[32mPOST /predict HTTP/1.1\u001b[0m\" 308 -\n",
            "127.0.0.1 - - [15/Sep/2020 17:59:22] \"\u001b[37mPOST /predict/ HTTP/1.1\u001b[0m\" 200 -\n"
          ],
          "name": "stderr"
        },
        {
          "output_type": "stream",
          "text": [
            "[[[68.527985, 81.95756, 388.94806, 299.625], 0]]\n"
          ],
          "name": "stdout"
        }
      ]
    },
    {
      "cell_type": "markdown",
      "metadata": {
        "id": "xi_ksomN3zYp",
        "colab_type": "text"
      },
      "source": [
        "# Load Model"
      ]
    },
    {
      "cell_type": "code",
      "metadata": {
        "id": "HAwPZAOd_Dpw",
        "colab_type": "code",
        "colab": {}
      },
      "source": [
        "!rm -rf keras-retinanet/"
      ],
      "execution_count": 9,
      "outputs": []
    },
    {
      "cell_type": "code",
      "metadata": {
        "id": "ugz1M4faAT5U",
        "colab_type": "code",
        "colab": {
          "base_uri": "https://localhost:8080/",
          "height": 136
        },
        "outputId": "345bc04a-6d83-4e63-db3d-f06879f3d167"
      },
      "source": [
        "!ls"
      ],
      "execution_count": 13,
      "outputs": [
        {
          "output_type": "stream",
          "text": [
            "ngrok\t\t\t\tngrok-stable-linux-amd64.zip.6\n",
            "ngrok-stable-linux-amd64.zip\tngrok-stable-linux-amd64.zip.7\n",
            "ngrok-stable-linux-amd64.zip.1\tngrok-stable-linux-amd64.zip.8\n",
            "ngrok-stable-linux-amd64.zip.2\tperson.jpg\n",
            "ngrok-stable-linux-amd64.zip.3\tresnet50_csv_12.h5\n",
            "ngrok-stable-linux-amd64.zip.4\tresnet50_csv_50.h5\n",
            "ngrok-stable-linux-amd64.zip.5\tTestImage.jpg\n"
          ],
          "name": "stdout"
        }
      ]
    },
    {
      "cell_type": "code",
      "metadata": {
        "id": "kNdtizsc5kgv",
        "colab_type": "code",
        "colab": {
          "base_uri": "https://localhost:8080/",
          "height": 102
        },
        "outputId": "203b4f63-cc33-4120-a7e8-c0aa10106896"
      },
      "source": [
        "!git clone https://github.com/fizyr/keras-retinanet.git"
      ],
      "execution_count": 10,
      "outputs": [
        {
          "output_type": "stream",
          "text": [
            "Cloning into 'keras-retinanet'...\n",
            "remote: Enumerating objects: 6014, done.\u001b[K\n",
            "remote: Total 6014 (delta 0), reused 0 (delta 0), pack-reused 6014\u001b[K\n",
            "Receiving objects: 100% (6014/6014), 13.44 MiB | 6.60 MiB/s, done.\n",
            "Resolving deltas: 100% (4061/4061), done.\n"
          ],
          "name": "stdout"
        }
      ]
    },
    {
      "cell_type": "code",
      "metadata": {
        "id": "Q7KYrtkQ5nyO",
        "colab_type": "code",
        "colab": {
          "base_uri": "https://localhost:8080/",
          "height": 34
        },
        "outputId": "d89f5436-d0ce-41eb-8d7b-affa4e1243af"
      },
      "source": [
        "%cd keras-retinanet/"
      ],
      "execution_count": 11,
      "outputs": [
        {
          "output_type": "stream",
          "text": [
            "/content/drive/My Drive/TFM_TEST/testAPI/keras-retinanet\n"
          ],
          "name": "stdout"
        }
      ]
    },
    {
      "cell_type": "code",
      "metadata": {
        "id": "xAylvPin5ut7",
        "colab_type": "code",
        "colab": {
          "base_uri": "https://localhost:8080/",
          "height": 445
        },
        "outputId": "2eae15ee-9708-4a64-cfa1-b37a3e68cffb"
      },
      "source": [
        "!pip install ."
      ],
      "execution_count": 12,
      "outputs": [
        {
          "output_type": "stream",
          "text": [
            "Processing /content/drive/My Drive/TFM_TEST/testAPI/keras-retinanet\n",
            "Requirement already satisfied: keras in /usr/local/lib/python3.6/dist-packages (from keras-retinanet==0.5.1) (2.4.3)\n",
            "Collecting keras-resnet==0.2.0\n",
            "  Downloading https://files.pythonhosted.org/packages/76/d4/a35cbd07381139dda4db42c81b88c59254faac026109022727b45b31bcad/keras-resnet-0.2.0.tar.gz\n",
            "Requirement already satisfied: six in /usr/local/lib/python3.6/dist-packages (from keras-retinanet==0.5.1) (1.15.0)\n",
            "Requirement already satisfied: scipy in /usr/local/lib/python3.6/dist-packages (from keras-retinanet==0.5.1) (1.4.1)\n",
            "Requirement already satisfied: cython in /usr/local/lib/python3.6/dist-packages (from keras-retinanet==0.5.1) (0.29.21)\n",
            "Requirement already satisfied: Pillow in /usr/local/lib/python3.6/dist-packages (from keras-retinanet==0.5.1) (7.0.0)\n",
            "Requirement already satisfied: opencv-python in /usr/local/lib/python3.6/dist-packages (from keras-retinanet==0.5.1) (4.1.2.30)\n",
            "Requirement already satisfied: progressbar2 in /usr/local/lib/python3.6/dist-packages (from keras-retinanet==0.5.1) (3.38.0)\n",
            "Requirement already satisfied: numpy>=1.9.1 in /usr/local/lib/python3.6/dist-packages (from keras->keras-retinanet==0.5.1) (1.18.5)\n",
            "Requirement already satisfied: h5py in /usr/local/lib/python3.6/dist-packages (from keras->keras-retinanet==0.5.1) (2.10.0)\n",
            "Requirement already satisfied: pyyaml in /usr/local/lib/python3.6/dist-packages (from keras->keras-retinanet==0.5.1) (3.13)\n",
            "Requirement already satisfied: python-utils>=2.3.0 in /usr/local/lib/python3.6/dist-packages (from progressbar2->keras-retinanet==0.5.1) (2.4.0)\n",
            "Building wheels for collected packages: keras-retinanet, keras-resnet\n",
            "  Building wheel for keras-retinanet (setup.py) ... \u001b[?25l\u001b[?25hdone\n",
            "  Created wheel for keras-retinanet: filename=keras_retinanet-0.5.1-cp36-cp36m-linux_x86_64.whl size=171490 sha256=c5531759cfb9d757c2d521994aafcf69c2255857fe10d7aa14a4761ae8ae299e\n",
            "  Stored in directory: /root/.cache/pip/wheels/ea/24/f9/59c91c9d875d05678d41ae67b7a8e29fe532a8556e97b9404f\n",
            "  Building wheel for keras-resnet (setup.py) ... \u001b[?25l\u001b[?25hdone\n",
            "  Created wheel for keras-resnet: filename=keras_resnet-0.2.0-py2.py3-none-any.whl size=20487 sha256=8cd17d38b322ea17cbe682ee4d4ee4bce1bf270814c42868a715bcdf3f8b4259\n",
            "  Stored in directory: /root/.cache/pip/wheels/5f/09/a5/497a30fd9ad9964e98a1254d1e164bcd1b8a5eda36197ecb3c\n",
            "Successfully built keras-retinanet keras-resnet\n",
            "Installing collected packages: keras-resnet, keras-retinanet\n",
            "Successfully installed keras-resnet-0.2.0 keras-retinanet-0.5.1\n"
          ],
          "name": "stdout"
        }
      ]
    },
    {
      "cell_type": "code",
      "metadata": {
        "id": "Y1OYyGuo8xpk",
        "colab_type": "code",
        "colab": {
          "base_uri": "https://localhost:8080/",
          "height": 411
        },
        "outputId": "bfb2d6ca-ebcd-4e3f-abe3-2918c2bca34d"
      },
      "source": [
        "!python setup.py build_ext --inplace"
      ],
      "execution_count": 13,
      "outputs": [
        {
          "output_type": "stream",
          "text": [
            "running build_ext\n",
            "cythoning keras_retinanet/utils/compute_overlap.pyx to keras_retinanet/utils/compute_overlap.c\n",
            "/usr/local/lib/python3.6/dist-packages/Cython/Compiler/Main.py:369: FutureWarning: Cython directive 'language_level' not set, using 2 for now (Py2). This will change in a later release! File: /content/drive/My Drive/TFM_TEST/testAPI/keras-retinanet/keras_retinanet/utils/compute_overlap.pyx\n",
            "  tree = Parsing.p_module(s, pxd, full_module_name)\n",
            "building 'keras_retinanet.utils.compute_overlap' extension\n",
            "creating build\n",
            "creating build/temp.linux-x86_64-3.6\n",
            "creating build/temp.linux-x86_64-3.6/keras_retinanet\n",
            "creating build/temp.linux-x86_64-3.6/keras_retinanet/utils\n",
            "x86_64-linux-gnu-gcc -pthread -DNDEBUG -g -fwrapv -O2 -Wall -g -fstack-protector-strong -Wformat -Werror=format-security -Wdate-time -D_FORTIFY_SOURCE=2 -fPIC -I/usr/include/python3.6m -I/usr/local/lib/python3.6/dist-packages/numpy/core/include -c keras_retinanet/utils/compute_overlap.c -o build/temp.linux-x86_64-3.6/keras_retinanet/utils/compute_overlap.o\n",
            "In file included from \u001b[01m\u001b[K/usr/local/lib/python3.6/dist-packages/numpy/core/include/numpy/ndarraytypes.h:1832:0\u001b[m\u001b[K,\n",
            "                 from \u001b[01m\u001b[K/usr/local/lib/python3.6/dist-packages/numpy/core/include/numpy/ndarrayobject.h:12\u001b[m\u001b[K,\n",
            "                 from \u001b[01m\u001b[K/usr/local/lib/python3.6/dist-packages/numpy/core/include/numpy/arrayobject.h:4\u001b[m\u001b[K,\n",
            "                 from \u001b[01m\u001b[Kkeras_retinanet/utils/compute_overlap.c:610\u001b[m\u001b[K:\n",
            "\u001b[01m\u001b[K/usr/local/lib/python3.6/dist-packages/numpy/core/include/numpy/npy_1_7_deprecated_api.h:17:2:\u001b[m\u001b[K \u001b[01;35m\u001b[Kwarning: \u001b[m\u001b[K#warning \"Using deprecated NumPy API, disable it with \" \"#define NPY_NO_DEPRECATED_API NPY_1_7_API_VERSION\" [\u001b[01;35m\u001b[K-Wcpp\u001b[m\u001b[K]\n",
            " #\u001b[01;35m\u001b[Kwarning\u001b[m\u001b[K \"Using deprecated NumPy API, disable it with \" \\\n",
            "  \u001b[01;35m\u001b[K^~~~~~~\u001b[m\u001b[K\n",
            "creating build/lib.linux-x86_64-3.6\n",
            "creating build/lib.linux-x86_64-3.6/keras_retinanet\n",
            "creating build/lib.linux-x86_64-3.6/keras_retinanet/utils\n",
            "x86_64-linux-gnu-gcc -pthread -shared -Wl,-O1 -Wl,-Bsymbolic-functions -Wl,-Bsymbolic-functions -Wl,-z,relro -Wl,-Bsymbolic-functions -Wl,-z,relro -g -fstack-protector-strong -Wformat -Werror=format-security -Wdate-time -D_FORTIFY_SOURCE=2 build/temp.linux-x86_64-3.6/keras_retinanet/utils/compute_overlap.o -o build/lib.linux-x86_64-3.6/keras_retinanet/utils/compute_overlap.cpython-36m-x86_64-linux-gnu.so\n",
            "copying build/lib.linux-x86_64-3.6/keras_retinanet/utils/compute_overlap.cpython-36m-x86_64-linux-gnu.so -> keras_retinanet/utils\n"
          ],
          "name": "stdout"
        }
      ]
    },
    {
      "cell_type": "code",
      "metadata": {
        "id": "ttyS43uJ5NxI",
        "colab_type": "code",
        "colab": {}
      },
      "source": [
        "from keras.models import load_model\n",
        "from keras_retinanet import models\n",
        "from keras_retinanet.utils.image import read_image_bgr, preprocess_image, resize_image\n",
        "from keras_retinanet.utils.visualization import draw_box, draw_caption\n",
        "from keras_retinanet.utils.colors import label_color"
      ],
      "execution_count": 14,
      "outputs": []
    },
    {
      "cell_type": "code",
      "metadata": {
        "id": "gq3MsKGo5c2P",
        "colab_type": "code",
        "colab": {
          "base_uri": "https://localhost:8080/",
          "height": 34
        },
        "outputId": "a48d746e-11c2-44bb-efd0-69a2891dd896"
      },
      "source": [
        "%cd .."
      ],
      "execution_count": 15,
      "outputs": [
        {
          "output_type": "stream",
          "text": [
            "/content/drive/My Drive/TFM_TEST/testAPI\n"
          ],
          "name": "stdout"
        }
      ]
    },
    {
      "cell_type": "code",
      "metadata": {
        "id": "sNTVr68N3yRr",
        "colab_type": "code",
        "colab": {}
      },
      "source": [
        "model = models.load_model(\"resnet50_csv_50_oid.h5\", backbone_name='resnet50')\n",
        "model = models.convert_model(model)"
      ],
      "execution_count": 17,
      "outputs": []
    },
    {
      "cell_type": "code",
      "metadata": {
        "id": "RyFVNGv36t3g",
        "colab_type": "code",
        "colab": {}
      },
      "source": [
        "def predict(image, model):\n",
        "    imageToPredict = image.copy()\n",
        "    image = preprocess_image(image.copy())\n",
        "    image, scale = resize_image(image)\n",
        "    boxes, scores, labels = model.predict_on_batch(np.expand_dims(image, axis=0))\n",
        "    boxes /= scale\n",
        "    return boxes_umbral(boxes,scores, labels)"
      ],
      "execution_count": 18,
      "outputs": []
    },
    {
      "cell_type": "code",
      "metadata": {
        "id": "dwdyS0GqFiOQ",
        "colab_type": "code",
        "colab": {}
      },
      "source": [
        "umbralScore = 0.55\n",
        "def boxes_umbral(boxes,scores, labels):\n",
        "  kk=[]\n",
        "  for box, score, label in zip(boxes[0],scores[0], labels[0]):\n",
        "    if score < umbralScore:\n",
        "        break\n",
        "    kk.append([list(box), label])\n",
        "\n",
        "  return(kk)"
      ],
      "execution_count": 20,
      "outputs": []
    }
  ]
}